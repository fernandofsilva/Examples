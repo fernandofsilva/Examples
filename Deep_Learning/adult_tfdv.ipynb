{
  "nbformat": 4,
  "nbformat_minor": 0,
  "metadata": {
    "colab": {
      "name": "adult_tfdv.ipynb",
      "version": "0.3.2",
      "provenance": [],
      "collapsed_sections": [],
      "toc_visible": true
    },
    "kernelspec": {
      "name": "python2",
      "display_name": "Python 2"
    }
  },
  "cells": [
    {
      "metadata": {
        "id": "r-DYi9kKxcCQ",
        "colab_type": "text"
      },
      "cell_type": "markdown",
      "source": [
        "# TensorFlow Data **Validation**\n",
        "\n",
        "TensorFlow Data Validation (TFDV) is a library for exploring and validating  machine learning data. It is designed to be highly scalable and to work  well with TensorFlow and TensorFlow Extended (TFX). This notebook will explore the features of TFDV using the [Adult ](https://archive.ics.uci.edu/ml/datasets/Adult) dataset from UCI."
      ]
    },
    {
      "metadata": {
        "id": "rZufU2u3yCQE",
        "colab_type": "text"
      },
      "cell_type": "markdown",
      "source": [
        "### Importing the data\n",
        "\n",
        "Tensorflow works with datafrom Csv files or TFRecords, the dataset is composed by a Train and Eval dataset, the data is available in my Google Drive (Google colab has integration tools with Gdrive), but you can download at the link above in UCI."
      ]
    },
    {
      "metadata": {
        "id": "UhGUMopVLMpt",
        "colab_type": "code",
        "colab": {}
      },
      "cell_type": "code",
      "source": [
        "from google.colab import drive\n",
        "drive.mount('/content/gdrive')"
      ],
      "execution_count": 0,
      "outputs": []
    },
    {
      "metadata": {
        "id": "AyqHxWn4wroI",
        "colab_type": "code",
        "outputId": "01858d0b-96e6-4d36-b892-73a35263eb8e",
        "colab": {
          "base_uri": "https://localhost:8080/",
          "height": 255
        }
      },
      "cell_type": "code",
      "source": [
        "# Import libraries\n",
        "from __future__ import print_function\n",
        "import sys, os\n",
        "import tempfile, urllib, zipfile\n",
        "\n",
        "# Confirm it is using Python 2 due TFDV just works on python 2\n",
        "assert sys.version_info.major is 2, 'Oops, not running Python 2'\n",
        "\n",
        "# Set up some globals for our file paths\n",
        "BASE_DIR = tempfile.mkdtemp()\n",
        "OUTPUT_DIR = '/content/gdrive/My Drive/Export_Colab/'\n",
        "TRAIN_DATA = os.path.join(BASE_DIR, 'train', 'data.csv')\n",
        "EVAL_DATA  = os.path.join(BASE_DIR, 'eval', 'data.csv')\n",
        "\n",
        "# Download the zip file from Google Drive and unzip it\n",
        "zip = '/content/gdrive/My Drive/Datasets/Adult.zip'\n",
        "zipfile.ZipFile(zip).extractall(BASE_DIR)\n",
        "zipfile.ZipFile(zip).close()\n",
        "\n",
        "print(\"Here's what we downloaded:\")\n",
        "!ls -lR {BASE_DIR}"
      ],
      "execution_count": 9,
      "outputs": [
        {
          "output_type": "stream",
          "text": [
            "Here's what we downloaded:\n",
            "/tmp/tmpLeJsth:\n",
            "total 16\n",
            "-rw-r--r-- 1 root root 5229 Jan 17 12:13 adult.names\n",
            "drwxr-xr-x 2 root root 4096 Jan 17 12:13 eval\n",
            "drwxr-xr-x 2 root root 4096 Jan 17 12:13 train\n",
            "\n",
            "/tmp/tmpLeJsth/eval:\n",
            "total 1880\n",
            "-rw-r--r-- 1 root root 1921726 Jan 17 12:13 data.csv\n",
            "\n",
            "/tmp/tmpLeJsth/train:\n",
            "total 3884\n",
            "-rw-r--r-- 1 root root 3974305 Jan 17 12:13 data.csv\n"
          ],
          "name": "stdout"
        }
      ]
    },
    {
      "metadata": {
        "id": "ypUPGQM0YhtL",
        "colab_type": "text"
      },
      "cell_type": "markdown",
      "source": [
        "### TFDV\n",
        "\n",
        "The TFDV is not available on the default packages in Google Colab, we install it  using pip"
      ]
    },
    {
      "metadata": {
        "id": "tZJdZUHyYQ12",
        "colab_type": "code",
        "outputId": "f65d8d1a-fd5a-48d3-c51b-a5fb5c1f7aa7",
        "colab": {
          "base_uri": "https://localhost:8080/",
          "height": 51
        }
      },
      "cell_type": "code",
      "source": [
        "!pip install -q tensorflow_data_validation\n",
        "import tensorflow_data_validation as tfdv\n",
        "\n",
        "print('TFDV version: {}'.format(tfdv.version.__version__))"
      ],
      "execution_count": 3,
      "outputs": [
        {
          "output_type": "stream",
          "text": [
            "\u001b[31mapache-beam 2.9.0 has requirement pytz<=2018.4,>=2018.3, but you'll have pytz 2018.9 which is incompatible.\u001b[0m\n",
            "TFDV version: 0.11.0\n"
          ],
          "name": "stdout"
        }
      ]
    },
    {
      "metadata": {
        "id": "XaSJXBk7yIo1",
        "colab_type": "text"
      },
      "cell_type": "markdown",
      "source": [
        "### Compute and visualize statistics\n",
        "\n",
        "TFDV can compute descriptive statistics providing a quick overview of the data in terms of the features, shapes and distribution of the values.\n",
        "\n",
        "First use tfdv.generate_statistics_from_csv to compute statistics for train data (Liander region), TFDV can compute descriptive statistics, generate_statistics_from_csv works specifying a file pattern. The pattern can contain glob characters  (*, ?, [...] and sets)."
      ]
    },
    {
      "metadata": {
        "id": "amEnexzmZZQx",
        "colab_type": "code",
        "outputId": "664a5a25-eac1-4b0c-ae43-5a739b19ff5b",
        "colab": {
          "base_uri": "https://localhost:8080/",
          "height": 562
        }
      },
      "cell_type": "code",
      "source": [
        "# Define column names\n",
        "names = ['age', 'workclass', 'fnlwgt', 'education', 'education_num', \n",
        "         'marital_status', 'occupation', 'relationship', 'race', 'sex', \n",
        "         'capital_gain', 'capital_loss', 'hours_per_week', 'native_country', \n",
        "         'wage']\n",
        "\n",
        "# Generate stats for train data\n",
        "train_stats = tfdv.generate_statistics_from_csv(data_location=TRAIN_DATA,\n",
        "                                                column_names=names)\n",
        "\n",
        "# Visualize\n",
        "tfdv.visualize_statistics(train_stats)"
      ],
      "execution_count": 4,
      "outputs": [
        {
          "output_type": "stream",
          "text": [
            "WARNING:root:Couldn't find python-snappy so the implementation of _TFRecordUtil._masked_crc32c is not as fast as it could be.\n"
          ],
          "name": "stderr"
        },
        {
          "output_type": "display_data",
          "data": {
            "text/plain": [
              "<IPython.core.display.HTML object>"
            ],
            "text/html": [
              "<iframe id='facets-iframe' width=\"100%\" height=\"500px\"></iframe>\n",
              "        <script>\n",
              "        facets_iframe = document.getElementById('facets-iframe');\n",
              "        facets_html = '<link rel=\"import\" href=\"https://raw.githubusercontent.com/PAIR-code/facets/master/facets-dist/facets-jupyter.html\"><facets-overview proto-input=\"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\"></facets-overview>';\n",
              "        facets_iframe.contentWindow.document.write(facets_html);\n",
              "         facets_iframe.id = \"\";\n",
              "         setTimeout(() => {\n",
              "           facets_iframe.setAttribute('height', facets_iframe.contentWindow.document.body.offsetHeight + 'px')\n",
              "         }, 1500)\n",
              "         </script>"
            ]
          },
          "metadata": {
            "tags": []
          }
        }
      ]
    },
    {
      "metadata": {
        "id": "HPqJgqyYBc1X",
        "colab_type": "text"
      },
      "cell_type": "markdown",
      "source": [
        "it is possible to check the distribution of each variable (max, min, median, mean, std and zeros), how much missing data to each feature. The numeric and categorical variables are shown separated.\n",
        "\n",
        "With this information it is possible have an idea about the data and infer some preliminary assumptios, most of the people work 30-40 hours per week, they are men married and receive less than 50k per year."
      ]
    },
    {
      "metadata": {
        "id": "Dqm2PWbOrafa",
        "colab_type": "text"
      },
      "cell_type": "markdown",
      "source": [
        "### Infer a schema\n",
        "\n",
        "Infering a schema we save a lot of initial work, the scheme defines the data that are relevant to the model, for example, the type of each feature (numerical or categorical), for categorical features the schema also defines the domain - the list of acceptable values, TFDV provides a initial version of the schema based on the descriptive statistics.\n",
        "\n",
        "Define the schema is important because the model pipeline relies on it also it is provide a documentation of the data."
      ]
    },
    {
      "metadata": {
        "id": "nlZvibO2r-T_",
        "colab_type": "code",
        "outputId": "4c909058-c459-4c1a-a316-89d0ef9c9e07",
        "colab": {
          "base_uri": "https://localhost:8080/",
          "height": 972
        }
      },
      "cell_type": "code",
      "source": [
        "# Define the schame\n",
        "schema = tfdv.infer_schema(statistics=train_stats)\n",
        "\n",
        "# Display the schema \n",
        "tfdv.display_schema(schema=schema)"
      ],
      "execution_count": 5,
      "outputs": [
        {
          "output_type": "display_data",
          "data": {
            "text/plain": [
              "                    Type  Presence Valency            Domain\n",
              "Feature name                                                \n",
              "'wage'            STRING  required                    'wage'\n",
              "'hours_per_week'     INT  required                         -\n",
              "'workclass'       STRING  required               'workclass'\n",
              "'relationship'    STRING  required            'relationship'\n",
              "'age'                INT  required                         -\n",
              "'marital_status'  STRING  required          'marital_status'\n",
              "'sex'             STRING  required                     'sex'\n",
              "'race'            STRING  required                    'race'\n",
              "'education_num'      INT  required                         -\n",
              "'native_country'  STRING  required          'native_country'\n",
              "'capital_loss'       INT  required                         -\n",
              "'education'       STRING  required               'education'\n",
              "'fnlwgt'             INT  required                         -\n",
              "'capital_gain'       INT  required                         -\n",
              "'occupation'      STRING  required              'occupation'"
            ],
            "text/html": [
              "<div>\n",
              "<style scoped>\n",
              "    .dataframe tbody tr th:only-of-type {\n",
              "        vertical-align: middle;\n",
              "    }\n",
              "\n",
              "    .dataframe tbody tr th {\n",
              "        vertical-align: top;\n",
              "    }\n",
              "\n",
              "    .dataframe thead th {\n",
              "        text-align: right;\n",
              "    }\n",
              "</style>\n",
              "<table border=\"1\" class=\"dataframe\">\n",
              "  <thead>\n",
              "    <tr style=\"text-align: right;\">\n",
              "      <th></th>\n",
              "      <th>Type</th>\n",
              "      <th>Presence</th>\n",
              "      <th>Valency</th>\n",
              "      <th>Domain</th>\n",
              "    </tr>\n",
              "    <tr>\n",
              "      <th>Feature name</th>\n",
              "      <th></th>\n",
              "      <th></th>\n",
              "      <th></th>\n",
              "      <th></th>\n",
              "    </tr>\n",
              "  </thead>\n",
              "  <tbody>\n",
              "    <tr>\n",
              "      <th>'wage'</th>\n",
              "      <td>STRING</td>\n",
              "      <td>required</td>\n",
              "      <td></td>\n",
              "      <td>'wage'</td>\n",
              "    </tr>\n",
              "    <tr>\n",
              "      <th>'hours_per_week'</th>\n",
              "      <td>INT</td>\n",
              "      <td>required</td>\n",
              "      <td></td>\n",
              "      <td>-</td>\n",
              "    </tr>\n",
              "    <tr>\n",
              "      <th>'workclass'</th>\n",
              "      <td>STRING</td>\n",
              "      <td>required</td>\n",
              "      <td></td>\n",
              "      <td>'workclass'</td>\n",
              "    </tr>\n",
              "    <tr>\n",
              "      <th>'relationship'</th>\n",
              "      <td>STRING</td>\n",
              "      <td>required</td>\n",
              "      <td></td>\n",
              "      <td>'relationship'</td>\n",
              "    </tr>\n",
              "    <tr>\n",
              "      <th>'age'</th>\n",
              "      <td>INT</td>\n",
              "      <td>required</td>\n",
              "      <td></td>\n",
              "      <td>-</td>\n",
              "    </tr>\n",
              "    <tr>\n",
              "      <th>'marital_status'</th>\n",
              "      <td>STRING</td>\n",
              "      <td>required</td>\n",
              "      <td></td>\n",
              "      <td>'marital_status'</td>\n",
              "    </tr>\n",
              "    <tr>\n",
              "      <th>'sex'</th>\n",
              "      <td>STRING</td>\n",
              "      <td>required</td>\n",
              "      <td></td>\n",
              "      <td>'sex'</td>\n",
              "    </tr>\n",
              "    <tr>\n",
              "      <th>'race'</th>\n",
              "      <td>STRING</td>\n",
              "      <td>required</td>\n",
              "      <td></td>\n",
              "      <td>'race'</td>\n",
              "    </tr>\n",
              "    <tr>\n",
              "      <th>'education_num'</th>\n",
              "      <td>INT</td>\n",
              "      <td>required</td>\n",
              "      <td></td>\n",
              "      <td>-</td>\n",
              "    </tr>\n",
              "    <tr>\n",
              "      <th>'native_country'</th>\n",
              "      <td>STRING</td>\n",
              "      <td>required</td>\n",
              "      <td></td>\n",
              "      <td>'native_country'</td>\n",
              "    </tr>\n",
              "    <tr>\n",
              "      <th>'capital_loss'</th>\n",
              "      <td>INT</td>\n",
              "      <td>required</td>\n",
              "      <td></td>\n",
              "      <td>-</td>\n",
              "    </tr>\n",
              "    <tr>\n",
              "      <th>'education'</th>\n",
              "      <td>STRING</td>\n",
              "      <td>required</td>\n",
              "      <td></td>\n",
              "      <td>'education'</td>\n",
              "    </tr>\n",
              "    <tr>\n",
              "      <th>'fnlwgt'</th>\n",
              "      <td>INT</td>\n",
              "      <td>required</td>\n",
              "      <td></td>\n",
              "      <td>-</td>\n",
              "    </tr>\n",
              "    <tr>\n",
              "      <th>'capital_gain'</th>\n",
              "      <td>INT</td>\n",
              "      <td>required</td>\n",
              "      <td></td>\n",
              "      <td>-</td>\n",
              "    </tr>\n",
              "    <tr>\n",
              "      <th>'occupation'</th>\n",
              "      <td>STRING</td>\n",
              "      <td>required</td>\n",
              "      <td></td>\n",
              "      <td>'occupation'</td>\n",
              "    </tr>\n",
              "  </tbody>\n",
              "</table>\n",
              "</div>"
            ]
          },
          "metadata": {
            "tags": []
          }
        },
        {
          "output_type": "display_data",
          "data": {
            "text/plain": [
              "                                                                                                                                                                                                                                                                                                                                                                                                                                                                                                                                                                           Values\n",
              "Domain                                                                                                                                                                                                                                                                                                                                                                                                                                                                                                                                                                           \n",
              "'wage'            ' <=50K', ' >50K'                                                                                                                                                                                                                                                                                                                                                                                                                                                                                                                                              \n",
              "'workclass'       ' ?', ' Federal-gov', ' Local-gov', ' Never-worked', ' Private', ' Self-emp-inc', ' Self-emp-not-inc', ' State-gov', ' Without-pay'                                                                                                                                                                                                                                                                                                                                                                                                                            \n",
              "'relationship'    ' Husband', ' Not-in-family', ' Other-relative', ' Own-child', ' Unmarried', ' Wife'                                                                                                                                                                                                                                                                                                                                                                                                                                                                           \n",
              "'marital_status'  ' Divorced', ' Married-AF-spouse', ' Married-civ-spouse', ' Married-spouse-absent', ' Never-married', ' Separated', ' Widowed'                                                                                                                                                                                                                                                                                                                                                                                                                                 \n",
              "'sex'             ' Female', ' Male'                                                                                                                                                                                                                                                                                                                                                                                                                                                                                                                                             \n",
              "'race'            ' Amer-Indian-Eskimo', ' Asian-Pac-Islander', ' Black', ' Other', ' White'                                                                                                                                                                                                                                                                                                                                                                                                                                                                                     \n",
              "'native_country'  ' ?', ' Cambodia', ' Canada', ' China', ' Columbia', ' Cuba', ' Dominican-Republic', ' Ecuador', ' El-Salvador', ' England', ' France', ' Germany', ' Greece', ' Guatemala', ' Haiti', ' Holand-Netherlands', ' Honduras', ' Hong', ' Hungary', ' India', ' Iran', ' Ireland', ' Italy', ' Jamaica', ' Japan', ' Laos', ' Mexico', ' Nicaragua', ' Outlying-US(Guam-USVI-etc)', ' Peru', ' Philippines', ' Poland', ' Portugal', ' Puerto-Rico', ' Scotland', ' South', ' Taiwan', ' Thailand', ' Trinadad&Tobago', ' United-States', ' Vietnam', ' Yugoslavia'\n",
              "'education'       ' 10th', ' 11th', ' 12th', ' 1st-4th', ' 5th-6th', ' 7th-8th', ' 9th', ' Assoc-acdm', ' Assoc-voc', ' Bachelors', ' Doctorate', ' HS-grad', ' Masters', ' Preschool', ' Prof-school', ' Some-college'                                                                                                                                                                                                                                                                                                                                                          \n",
              "'occupation'      ' ?', ' Adm-clerical', ' Armed-Forces', ' Craft-repair', ' Exec-managerial', ' Farming-fishing', ' Handlers-cleaners', ' Machine-op-inspct', ' Other-service', ' Priv-house-serv', ' Prof-specialty', ' Protective-serv', ' Sales', ' Tech-support', ' Transport-moving'                                                                                                                                                                                                                                                                                       "
            ],
            "text/html": [
              "<div>\n",
              "<style scoped>\n",
              "    .dataframe tbody tr th:only-of-type {\n",
              "        vertical-align: middle;\n",
              "    }\n",
              "\n",
              "    .dataframe tbody tr th {\n",
              "        vertical-align: top;\n",
              "    }\n",
              "\n",
              "    .dataframe thead th {\n",
              "        text-align: right;\n",
              "    }\n",
              "</style>\n",
              "<table border=\"1\" class=\"dataframe\">\n",
              "  <thead>\n",
              "    <tr style=\"text-align: right;\">\n",
              "      <th></th>\n",
              "      <th>Values</th>\n",
              "    </tr>\n",
              "    <tr>\n",
              "      <th>Domain</th>\n",
              "      <th></th>\n",
              "    </tr>\n",
              "  </thead>\n",
              "  <tbody>\n",
              "    <tr>\n",
              "      <th>'wage'</th>\n",
              "      <td>' &lt;=50K', ' &gt;50K'</td>\n",
              "    </tr>\n",
              "    <tr>\n",
              "      <th>'workclass'</th>\n",
              "      <td>' ?', ' Federal-gov', ' Local-gov', ' Never-worked', ' Private', ' Self-emp-inc', ' Self-emp-not-inc', ' State-gov', ' Without-pay'</td>\n",
              "    </tr>\n",
              "    <tr>\n",
              "      <th>'relationship'</th>\n",
              "      <td>' Husband', ' Not-in-family', ' Other-relative', ' Own-child', ' Unmarried', ' Wife'</td>\n",
              "    </tr>\n",
              "    <tr>\n",
              "      <th>'marital_status'</th>\n",
              "      <td>' Divorced', ' Married-AF-spouse', ' Married-civ-spouse', ' Married-spouse-absent', ' Never-married', ' Separated', ' Widowed'</td>\n",
              "    </tr>\n",
              "    <tr>\n",
              "      <th>'sex'</th>\n",
              "      <td>' Female', ' Male'</td>\n",
              "    </tr>\n",
              "    <tr>\n",
              "      <th>'race'</th>\n",
              "      <td>' Amer-Indian-Eskimo', ' Asian-Pac-Islander', ' Black', ' Other', ' White'</td>\n",
              "    </tr>\n",
              "    <tr>\n",
              "      <th>'native_country'</th>\n",
              "      <td>' ?', ' Cambodia', ' Canada', ' China', ' Columbia', ' Cuba', ' Dominican-Republic', ' Ecuador', ' El-Salvador', ' England', ' France', ' Germany', ' Greece', ' Guatemala', ' Haiti', ' Holand-Netherlands', ' Honduras', ' Hong', ' Hungary', ' India', ' Iran', ' Ireland', ' Italy', ' Jamaica', ' Japan', ' Laos', ' Mexico', ' Nicaragua', ' Outlying-US(Guam-USVI-etc)', ' Peru', ' Philippines', ' Poland', ' Portugal', ' Puerto-Rico', ' Scotland', ' South', ' Taiwan', ' Thailand', ' Trinadad&amp;Tobago', ' United-States', ' Vietnam', ' Yugoslavia'</td>\n",
              "    </tr>\n",
              "    <tr>\n",
              "      <th>'education'</th>\n",
              "      <td>' 10th', ' 11th', ' 12th', ' 1st-4th', ' 5th-6th', ' 7th-8th', ' 9th', ' Assoc-acdm', ' Assoc-voc', ' Bachelors', ' Doctorate', ' HS-grad', ' Masters', ' Preschool', ' Prof-school', ' Some-college'</td>\n",
              "    </tr>\n",
              "    <tr>\n",
              "      <th>'occupation'</th>\n",
              "      <td>' ?', ' Adm-clerical', ' Armed-Forces', ' Craft-repair', ' Exec-managerial', ' Farming-fishing', ' Handlers-cleaners', ' Machine-op-inspct', ' Other-service', ' Priv-house-serv', ' Prof-specialty', ' Protective-serv', ' Sales', ' Tech-support', ' Transport-moving'</td>\n",
              "    </tr>\n",
              "  </tbody>\n",
              "</table>\n",
              "</div>"
            ]
          },
          "metadata": {
            "tags": []
          }
        }
      ]
    },
    {
      "metadata": {
        "id": "g2V3Zpq4QA-M",
        "colab_type": "text"
      },
      "cell_type": "markdown",
      "source": [
        "With the schema we have an overview how the schema was defined, looking at the domains we can note simbol \"?\", it represents the missing data, currently TFDV doesn't support input specify values as NaN, there is a open issue for this case [link](https://github.com/tensorflow/data-validation/issues/51), we will deal with this values in the next notebook with TFX."
      ]
    },
    {
      "metadata": {
        "id": "ckVU1I8VxUhY",
        "colab_type": "text"
      },
      "cell_type": "markdown",
      "source": [
        "### Check evaluation data for errors\n",
        "\n",
        "We checked and infer a schema for the train dataset, the schema also should be consistent in the eval dataset, it should have the same range of values in the numerical features, if the data is different between the eval and train data we'll have problems in the model."
      ]
    },
    {
      "metadata": {
        "id": "MJnN5ulGUeIL",
        "colab_type": "code",
        "outputId": "51f54447-adfc-43a1-8a4a-bc3992a6e0bb",
        "colab": {
          "base_uri": "https://localhost:8080/",
          "height": 545
        }
      },
      "cell_type": "code",
      "source": [
        "# Compute stats for evaluation data\n",
        "eval_stats = tfdv.generate_statistics_from_csv(data_location=EVAL_DATA,\n",
        "                                              column_names=names)\n",
        "\n",
        "# Compare evaluation data with training data\n",
        "tfdv.visualize_statistics(lhs_statistics=eval_stats, \n",
        "                          rhs_statistics=train_stats,\n",
        "                          lhs_name='EVAL_DATASET', \n",
        "                          rhs_name='TRAIN_DATASET')"
      ],
      "execution_count": 6,
      "outputs": [
        {
          "output_type": "display_data",
          "data": {
            "text/plain": [
              "<IPython.core.display.HTML object>"
            ],
            "text/html": [
              "<iframe id='facets-iframe' width=\"100%\" height=\"500px\"></iframe>\n",
              "        <script>\n",
              "        facets_iframe = document.getElementById('facets-iframe');\n",
              "        facets_html = '<link rel=\"import\" href=\"https://raw.githubusercontent.com/PAIR-code/facets/master/facets-dist/facets-jupyter.html\"><facets-overview proto-input=\"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\"></facets-overview>';\n",
              "        facets_iframe.contentWindow.document.write(facets_html);\n",
              "         facets_iframe.id = \"\";\n",
              "         setTimeout(() => {\n",
              "           facets_iframe.setAttribute('height', facets_iframe.contentWindow.document.body.offsetHeight + 'px')\n",
              "         }, 1500)\n",
              "         </script>"
            ]
          },
          "metadata": {
            "tags": []
          }
        }
      ]
    },
    {
      "metadata": {
        "id": "M53do7oWWScB",
        "colab_type": "text"
      },
      "cell_type": "markdown",
      "source": [
        "In evalation of the data TFDV shows in the plot both the train and eval stats overlaid, it is possible to check the distribuition visually, it can speedy the change in the schema when necessary.\n",
        "\n",
        "Looking in the plots we can consider both the train and eval has the same distribution, the difenrrence in the plots is just in the quantity of each value in the features."
      ]
    },
    {
      "metadata": {
        "id": "3zVVt47lia91",
        "colab_type": "text"
      },
      "cell_type": "markdown",
      "source": [
        "### Anomalies\n",
        "\n",
        "After generate stats for both train and eval dataset, it necessary to check if the schema define to each one is the same (range of values, type of feature and so on), TFDV has a function to look for anomalies, e.g, features define different for each schema."
      ]
    },
    {
      "metadata": {
        "id": "nQD_vH85iyua",
        "colab_type": "code",
        "outputId": "fa5feb07-fddd-4803-b5f3-c7fa7e9676ee",
        "colab": {
          "base_uri": "https://localhost:8080/",
          "height": 111
        }
      },
      "cell_type": "code",
      "source": [
        "# Check eval data for errors by validating the Eval data stats using the \n",
        "# previously inferred schema.\n",
        "anomalies = tfdv.validate_statistics(statistics=eval_stats, schema=schema)\n",
        "\n",
        "# Display anomalies\n",
        "tfdv.display_anomalies(anomalies)"
      ],
      "execution_count": 7,
      "outputs": [
        {
          "output_type": "display_data",
          "data": {
            "text/plain": [
              "             Anomaly short description  \\\n",
              "Feature name                             \n",
              "'wage'        Unexpected string values   \n",
              "\n",
              "                                                                      Anomaly long description  \n",
              "Feature name                                                                                    \n",
              "'wage'        Examples contain values missing from the schema:  <=50K. (~76%),  >50K. (~23%).   "
            ],
            "text/html": [
              "<div>\n",
              "<style scoped>\n",
              "    .dataframe tbody tr th:only-of-type {\n",
              "        vertical-align: middle;\n",
              "    }\n",
              "\n",
              "    .dataframe tbody tr th {\n",
              "        vertical-align: top;\n",
              "    }\n",
              "\n",
              "    .dataframe thead th {\n",
              "        text-align: right;\n",
              "    }\n",
              "</style>\n",
              "<table border=\"1\" class=\"dataframe\">\n",
              "  <thead>\n",
              "    <tr style=\"text-align: right;\">\n",
              "      <th></th>\n",
              "      <th>Anomaly short description</th>\n",
              "      <th>Anomaly long description</th>\n",
              "    </tr>\n",
              "    <tr>\n",
              "      <th>Feature name</th>\n",
              "      <th></th>\n",
              "      <th></th>\n",
              "    </tr>\n",
              "  </thead>\n",
              "  <tbody>\n",
              "    <tr>\n",
              "      <th>'wage'</th>\n",
              "      <td>Unexpected string values</td>\n",
              "      <td>Examples contain values missing from the schema:  &lt;=50K. (~76%),  &gt;50K. (~23%).</td>\n",
              "    </tr>\n",
              "  </tbody>\n",
              "</table>\n",
              "</div>"
            ]
          },
          "metadata": {
            "tags": []
          }
        }
      ]
    },
    {
      "metadata": {
        "id": "aj9VS3Z4jrSX",
        "colab_type": "text"
      },
      "cell_type": "markdown",
      "source": [
        "We have just one feature with anomalies, look deeply we can check the values are correct but the problem there is a period and a space in the values, so the TFDV considered it as a new values."
      ]
    },
    {
      "metadata": {
        "id": "udGz9AlblGOx",
        "colab_type": "text"
      },
      "cell_type": "markdown",
      "source": [
        "### Fixing the erros\n",
        "\n",
        "The corrections will depend of our knowlegde of the data, looking at each feature and decide what action should be take, for our case it is not necessary to ajusted the schema, but to test how to correct the errors we will add the values to the domain and check again the anomalies"
      ]
    },
    {
      "metadata": {
        "id": "w_n23F1evt2W",
        "colab_type": "code",
        "outputId": "69ffae98-88b3-420b-de92-b0c3a2399ca2",
        "colab": {
          "base_uri": "https://localhost:8080/",
          "height": 57
        }
      },
      "cell_type": "code",
      "source": [
        "# Add new value to the domain of feature wage.\n",
        "wage = tfdv.get_domain(schema, 'wage')\n",
        "wage.value.append(' <=50K.')\n",
        "wage.value.append(' >50K.')\n",
        "\n",
        "# Validate eval stats after updating the schema \n",
        "updated_anomalies = tfdv.validate_statistics(eval_stats, schema)\n",
        "tfdv.display_anomalies(updated_anomalies)"
      ],
      "execution_count": 8,
      "outputs": [
        {
          "output_type": "display_data",
          "data": {
            "text/plain": [
              "<IPython.core.display.HTML object>"
            ],
            "text/html": [
              "<h4 style=\"color:green;\">No anomalies found.</h4>"
            ]
          },
          "metadata": {
            "tags": []
          }
        }
      ]
    },
    {
      "metadata": {
        "id": "I_PFW66Oxg8W",
        "colab_type": "text"
      },
      "cell_type": "markdown",
      "source": [
        "Running and check again the anomalies we found not any error"
      ]
    },
    {
      "metadata": {
        "id": "MM6hRp4uN_4j",
        "colab_type": "text"
      },
      "cell_type": "markdown",
      "source": [
        "### Schema Environments\n",
        "\n",
        "TFDV it is possible to define different schema according to your data, for example, you added labels in the train dataset but for prediction it is not necessary.\n",
        "\n",
        "**Environments** can be used to express such requirements, features in schema can be associated with a set of environments using `default_environment`, `in_environment` and `not_in_environment`.\n",
        "\n",
        "For our example we'll not use this function, since our train and eval data has the same schema."
      ]
    },
    {
      "metadata": {
        "id": "lfdtMYL9OrEf",
        "colab_type": "text"
      },
      "cell_type": "markdown",
      "source": [
        "### Drift and Skew\n",
        "\n",
        "TFDV also provides additional functionalities to detect drift and skew comparing the statistics of the different datasets, for Skew analysis TFDV has support to three kind (Schema Skew, Feature Skew and Distribuition Skew)\n",
        "\n",
        "This feature are used in advanced analysis and are not focus of the notebook, for more information please visite [TFDV](https://www.tensorflow.org/tfx/data_validation/) website."
      ]
    },
    {
      "metadata": {
        "id": "4-BlNtHYXKqB",
        "colab_type": "text"
      },
      "cell_type": "markdown",
      "source": [
        "### Freeze Schema\n",
        "\n",
        "After all ajusts is time to save for future use."
      ]
    },
    {
      "metadata": {
        "id": "hTeVeTDDXcyx",
        "colab_type": "code",
        "outputId": "afc95de6-ed7e-4209-d5b8-a1c90e3116a3",
        "colab": {
          "base_uri": "https://localhost:8080/",
          "height": 5746
        }
      },
      "cell_type": "code",
      "source": [
        "from tensorflow.python.lib.io import file_io\n",
        "from google.protobuf import text_format\n",
        "\n",
        "file_io.recursive_create_dir(OUTPUT_DIR)\n",
        "schema_file = os.path.join(OUTPUT_DIR, 'adult_schema.pbtxt')\n",
        "tfdv.write_schema_text(schema, schema_file)\n",
        "\n",
        "!cat {'/content/gdrive/\"My Drive\"/Export_Colab/adult_schema.pbtxt'}"
      ],
      "execution_count": 19,
      "outputs": [
        {
          "output_type": "stream",
          "text": [
            "feature {\n",
            "  name: \"wage\"\n",
            "  type: BYTES\n",
            "  domain: \"wage\"\n",
            "  presence {\n",
            "    min_fraction: 1.0\n",
            "    min_count: 1\n",
            "  }\n",
            "  shape {\n",
            "    dim {\n",
            "      size: 1\n",
            "    }\n",
            "  }\n",
            "}\n",
            "feature {\n",
            "  name: \"hours_per_week\"\n",
            "  type: INT\n",
            "  presence {\n",
            "    min_fraction: 1.0\n",
            "    min_count: 1\n",
            "  }\n",
            "  shape {\n",
            "    dim {\n",
            "      size: 1\n",
            "    }\n",
            "  }\n",
            "}\n",
            "feature {\n",
            "  name: \"workclass\"\n",
            "  type: BYTES\n",
            "  domain: \"workclass\"\n",
            "  presence {\n",
            "    min_fraction: 1.0\n",
            "    min_count: 1\n",
            "  }\n",
            "  shape {\n",
            "    dim {\n",
            "      size: 1\n",
            "    }\n",
            "  }\n",
            "}\n",
            "feature {\n",
            "  name: \"relationship\"\n",
            "  type: BYTES\n",
            "  domain: \"relationship\"\n",
            "  presence {\n",
            "    min_fraction: 1.0\n",
            "    min_count: 1\n",
            "  }\n",
            "  shape {\n",
            "    dim {\n",
            "      size: 1\n",
            "    }\n",
            "  }\n",
            "}\n",
            "feature {\n",
            "  name: \"age\"\n",
            "  type: INT\n",
            "  presence {\n",
            "    min_fraction: 1.0\n",
            "    min_count: 1\n",
            "  }\n",
            "  shape {\n",
            "    dim {\n",
            "      size: 1\n",
            "    }\n",
            "  }\n",
            "}\n",
            "feature {\n",
            "  name: \"marital_status\"\n",
            "  type: BYTES\n",
            "  domain: \"marital_status\"\n",
            "  presence {\n",
            "    min_fraction: 1.0\n",
            "    min_count: 1\n",
            "  }\n",
            "  shape {\n",
            "    dim {\n",
            "      size: 1\n",
            "    }\n",
            "  }\n",
            "}\n",
            "feature {\n",
            "  name: \"sex\"\n",
            "  type: BYTES\n",
            "  domain: \"sex\"\n",
            "  presence {\n",
            "    min_fraction: 1.0\n",
            "    min_count: 1\n",
            "  }\n",
            "  shape {\n",
            "    dim {\n",
            "      size: 1\n",
            "    }\n",
            "  }\n",
            "}\n",
            "feature {\n",
            "  name: \"race\"\n",
            "  type: BYTES\n",
            "  domain: \"race\"\n",
            "  presence {\n",
            "    min_fraction: 1.0\n",
            "    min_count: 1\n",
            "  }\n",
            "  shape {\n",
            "    dim {\n",
            "      size: 1\n",
            "    }\n",
            "  }\n",
            "}\n",
            "feature {\n",
            "  name: \"education_num\"\n",
            "  type: INT\n",
            "  presence {\n",
            "    min_fraction: 1.0\n",
            "    min_count: 1\n",
            "  }\n",
            "  shape {\n",
            "    dim {\n",
            "      size: 1\n",
            "    }\n",
            "  }\n",
            "}\n",
            "feature {\n",
            "  name: \"native_country\"\n",
            "  type: BYTES\n",
            "  domain: \"native_country\"\n",
            "  presence {\n",
            "    min_fraction: 1.0\n",
            "    min_count: 1\n",
            "  }\n",
            "  shape {\n",
            "    dim {\n",
            "      size: 1\n",
            "    }\n",
            "  }\n",
            "}\n",
            "feature {\n",
            "  name: \"capital_loss\"\n",
            "  type: INT\n",
            "  presence {\n",
            "    min_fraction: 1.0\n",
            "    min_count: 1\n",
            "  }\n",
            "  shape {\n",
            "    dim {\n",
            "      size: 1\n",
            "    }\n",
            "  }\n",
            "}\n",
            "feature {\n",
            "  name: \"education\"\n",
            "  type: BYTES\n",
            "  domain: \"education\"\n",
            "  presence {\n",
            "    min_fraction: 1.0\n",
            "    min_count: 1\n",
            "  }\n",
            "  shape {\n",
            "    dim {\n",
            "      size: 1\n",
            "    }\n",
            "  }\n",
            "}\n",
            "feature {\n",
            "  name: \"fnlwgt\"\n",
            "  type: INT\n",
            "  presence {\n",
            "    min_fraction: 1.0\n",
            "    min_count: 1\n",
            "  }\n",
            "  shape {\n",
            "    dim {\n",
            "      size: 1\n",
            "    }\n",
            "  }\n",
            "}\n",
            "feature {\n",
            "  name: \"capital_gain\"\n",
            "  type: INT\n",
            "  presence {\n",
            "    min_fraction: 1.0\n",
            "    min_count: 1\n",
            "  }\n",
            "  shape {\n",
            "    dim {\n",
            "      size: 1\n",
            "    }\n",
            "  }\n",
            "}\n",
            "feature {\n",
            "  name: \"occupation\"\n",
            "  type: BYTES\n",
            "  domain: \"occupation\"\n",
            "  presence {\n",
            "    min_fraction: 1.0\n",
            "    min_count: 1\n",
            "  }\n",
            "  shape {\n",
            "    dim {\n",
            "      size: 1\n",
            "    }\n",
            "  }\n",
            "}\n",
            "string_domain {\n",
            "  name: \"wage\"\n",
            "  value: \" <=50K\"\n",
            "  value: \" >50K\"\n",
            "  value: \" <=50K.\"\n",
            "  value: \" >50K.\"\n",
            "}\n",
            "string_domain {\n",
            "  name: \"workclass\"\n",
            "  value: \" ?\"\n",
            "  value: \" Federal-gov\"\n",
            "  value: \" Local-gov\"\n",
            "  value: \" Never-worked\"\n",
            "  value: \" Private\"\n",
            "  value: \" Self-emp-inc\"\n",
            "  value: \" Self-emp-not-inc\"\n",
            "  value: \" State-gov\"\n",
            "  value: \" Without-pay\"\n",
            "}\n",
            "string_domain {\n",
            "  name: \"relationship\"\n",
            "  value: \" Husband\"\n",
            "  value: \" Not-in-family\"\n",
            "  value: \" Other-relative\"\n",
            "  value: \" Own-child\"\n",
            "  value: \" Unmarried\"\n",
            "  value: \" Wife\"\n",
            "}\n",
            "string_domain {\n",
            "  name: \"marital_status\"\n",
            "  value: \" Divorced\"\n",
            "  value: \" Married-AF-spouse\"\n",
            "  value: \" Married-civ-spouse\"\n",
            "  value: \" Married-spouse-absent\"\n",
            "  value: \" Never-married\"\n",
            "  value: \" Separated\"\n",
            "  value: \" Widowed\"\n",
            "}\n",
            "string_domain {\n",
            "  name: \"sex\"\n",
            "  value: \" Female\"\n",
            "  value: \" Male\"\n",
            "}\n",
            "string_domain {\n",
            "  name: \"race\"\n",
            "  value: \" Amer-Indian-Eskimo\"\n",
            "  value: \" Asian-Pac-Islander\"\n",
            "  value: \" Black\"\n",
            "  value: \" Other\"\n",
            "  value: \" White\"\n",
            "}\n",
            "string_domain {\n",
            "  name: \"native_country\"\n",
            "  value: \" ?\"\n",
            "  value: \" Cambodia\"\n",
            "  value: \" Canada\"\n",
            "  value: \" China\"\n",
            "  value: \" Columbia\"\n",
            "  value: \" Cuba\"\n",
            "  value: \" Dominican-Republic\"\n",
            "  value: \" Ecuador\"\n",
            "  value: \" El-Salvador\"\n",
            "  value: \" England\"\n",
            "  value: \" France\"\n",
            "  value: \" Germany\"\n",
            "  value: \" Greece\"\n",
            "  value: \" Guatemala\"\n",
            "  value: \" Haiti\"\n",
            "  value: \" Holand-Netherlands\"\n",
            "  value: \" Honduras\"\n",
            "  value: \" Hong\"\n",
            "  value: \" Hungary\"\n",
            "  value: \" India\"\n",
            "  value: \" Iran\"\n",
            "  value: \" Ireland\"\n",
            "  value: \" Italy\"\n",
            "  value: \" Jamaica\"\n",
            "  value: \" Japan\"\n",
            "  value: \" Laos\"\n",
            "  value: \" Mexico\"\n",
            "  value: \" Nicaragua\"\n",
            "  value: \" Outlying-US(Guam-USVI-etc)\"\n",
            "  value: \" Peru\"\n",
            "  value: \" Philippines\"\n",
            "  value: \" Poland\"\n",
            "  value: \" Portugal\"\n",
            "  value: \" Puerto-Rico\"\n",
            "  value: \" Scotland\"\n",
            "  value: \" South\"\n",
            "  value: \" Taiwan\"\n",
            "  value: \" Thailand\"\n",
            "  value: \" Trinadad&Tobago\"\n",
            "  value: \" United-States\"\n",
            "  value: \" Vietnam\"\n",
            "  value: \" Yugoslavia\"\n",
            "}\n",
            "string_domain {\n",
            "  name: \"education\"\n",
            "  value: \" 10th\"\n",
            "  value: \" 11th\"\n",
            "  value: \" 12th\"\n",
            "  value: \" 1st-4th\"\n",
            "  value: \" 5th-6th\"\n",
            "  value: \" 7th-8th\"\n",
            "  value: \" 9th\"\n",
            "  value: \" Assoc-acdm\"\n",
            "  value: \" Assoc-voc\"\n",
            "  value: \" Bachelors\"\n",
            "  value: \" Doctorate\"\n",
            "  value: \" HS-grad\"\n",
            "  value: \" Masters\"\n",
            "  value: \" Preschool\"\n",
            "  value: \" Prof-school\"\n",
            "  value: \" Some-college\"\n",
            "}\n",
            "string_domain {\n",
            "  name: \"occupation\"\n",
            "  value: \" ?\"\n",
            "  value: \" Adm-clerical\"\n",
            "  value: \" Armed-Forces\"\n",
            "  value: \" Craft-repair\"\n",
            "  value: \" Exec-managerial\"\n",
            "  value: \" Farming-fishing\"\n",
            "  value: \" Handlers-cleaners\"\n",
            "  value: \" Machine-op-inspct\"\n",
            "  value: \" Other-service\"\n",
            "  value: \" Priv-house-serv\"\n",
            "  value: \" Prof-specialty\"\n",
            "  value: \" Protective-serv\"\n",
            "  value: \" Sales\"\n",
            "  value: \" Tech-support\"\n",
            "  value: \" Transport-moving\"\n",
            "}\n"
          ],
          "name": "stdout"
        }
      ]
    },
    {
      "metadata": {
        "id": "6KJKIojLXjho",
        "colab_type": "text"
      },
      "cell_type": "markdown",
      "source": [
        "### Conclusion\n",
        "\n",
        "TFDV deliveres what it is promissed, it shows a summary of your data and helps to define the schema for using in TFX, when working with several files and data, it takes time to undestand all the data and make assumptions, after you spend more time defining what to do for each feature.\n",
        "\n",
        "You can refine your model using TDFV, all your features are visually in front you, it's easy to undestand the changes. TFDV helps in this task let it more clear and inside the tensforflow ecosystem. It was a great addition by Google, for more information and new releases in TFDV please check Tensorflow [site](https://www.tensorflow.org/tfx/data_validation/).\n",
        "\n",
        "In the next notebooks I'll cover the others TFX features (Transform, Model Analysis, Serving and API)"
      ]
    }
  ]
}